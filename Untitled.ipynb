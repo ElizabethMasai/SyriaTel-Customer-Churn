{
 "cells": [
  {
   "cell_type": "markdown",
   "id": "a0b09471",
   "metadata": {},
   "source": [
    "# SyriaTel Customer Churn \n",
    "* Author :Elizabeth Masai\n",
    "*  TM:Asha Deen\n"
   ]
  },
  {
   "cell_type": "markdown",
   "id": "8145637b",
   "metadata": {},
   "source": [
    "## 1.Business Understanding"
   ]
  },
  {
   "cell_type": "markdown",
   "id": "f1687067",
   "metadata": {},
   "source": [
    "##  Project  Overview"
   ]
  },
  {
   "cell_type": "markdown",
   "id": "12297adc",
   "metadata": {},
   "source": [
    "In the world of telecommunications, keeping customers is just as important as acquiring new ones. For SyriaTel, a telecommunications company based in Syria,the cost of acquiring a new customer is six times higher than retaining an existing one . Therefore, understanding why customers leave, or \"churn,\" is crucial for the company's financial well being.\n",
    "This project therefore aims at helping SyriaTel tackle this challenge by building a classifier to predict whether a customer will soon stop doing business with the telecommunication company.\n",
    "\n",
    "\n",
    "The  goal of this project is to find any predictable patterns in this data that might indicate a customer is about to churn.By identifying these patterns, this project can provide SyriaTel with insights that could help them improve their customer retention strategies. This will in the long run help SyriaTel save money and maintain a strong customer base."
   ]
  },
  {
   "cell_type": "markdown",
   "id": "00ff1350",
   "metadata": {},
   "source": [
    "## Challenges\n",
    "\n",
    "The challenges faced by the telecom industry include very dimensional and incomplete customer data, the need for accurate churn prediction, and the ability to connect analytics to actionable outcomes.Previous studies however have shown promising results in using big data and machine learning techniques to improve customer loyalty prediction in the telecom industry, achieving high accuracy rates in gender and age prediction."
   ]
  },
  {
   "cell_type": "markdown",
   "id": "33b98d08",
   "metadata": {},
   "source": [
    "##  Problem Statement\n",
    "\n",
    "SyriaTel, a telecommunications company, is facing the challenge of customer churn, where customers decide to end their subscription. This churn rate is currently at approximately 15%. The company wants to understand if there are any predictable patterns or factors that contribute to customer churn. By identifying these patterns, SyriaTel aims to develop strategies to reduce churn and retain more customers, ultimately improving their financial performance and well being.\n"
   ]
  },
  {
   "cell_type": "markdown",
   "id": "2266a9ac",
   "metadata": {},
   "source": [
    "## Objectives\n",
    "\n",
    "1.Identify Predictive Patterns: Analyze the provided dataset from SyriaTel to identify patterns and factors that are associated with customer churn. This involves exploring various features such as call minutes, charges, customer service calls, and plan details to understand their impact on churn.\n",
    "\n",
    "2.Build a Churn Prediction Model: Develop a binary classification model using machine learning techniques to predict whether a customer is likely to churn or not. The model should be trained on historical customer data and evaluated using appropriate metrics such as accuracy, precision, recall, and F1-score.\n",
    "\n",
    "3.Provide Actionable Insights: Generate actionable insights and recommendations based on the analysis and model results. These insights should help SyriaTel make informed decisions and develop targeted strategies to reduce churn, such as improving customer service, offering personalized promotions, or enhancing plan features.\n",
    "\n",
    "\n"
   ]
  },
  {
   "cell_type": "markdown",
   "id": "4525a467",
   "metadata": {},
   "source": [
    "## Conclusion\n",
    "\n",
    "SyriaTel, a telecommunications company, is interested in reducing customer churn to minimize financial losses and maximise on profits. By analyzing the provided dataset and building a churn prediction model, this project aims at identifying  patterns and factors that contribute to churn and provide actionable insights to help SyriaTel develop effective customer retention mechanisims.\n"
   ]
  },
  {
   "cell_type": "markdown",
   "id": "be573a6f",
   "metadata": {},
   "source": [
    "## 2.Data Understanding\n"
   ]
  }
 ],
 "metadata": {
  "kernelspec": {
   "display_name": "Python (learn-env)",
   "language": "python",
   "name": "learn-env"
  },
  "language_info": {
   "codemirror_mode": {
    "name": "ipython",
    "version": 3
   },
   "file_extension": ".py",
   "mimetype": "text/x-python",
   "name": "python",
   "nbconvert_exporter": "python",
   "pygments_lexer": "ipython3",
   "version": "3.10.13"
  }
 },
 "nbformat": 4,
 "nbformat_minor": 5
}
